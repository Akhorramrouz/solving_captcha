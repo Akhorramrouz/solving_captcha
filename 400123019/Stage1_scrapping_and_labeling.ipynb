{
 "cells": [
  {
   "cell_type": "markdown",
   "id": "dd6a283e",
   "metadata": {},
   "source": [
    "# Disable warning :"
   ]
  },
  {
   "cell_type": "code",
   "execution_count": 1,
   "id": "30df7941",
   "metadata": {},
   "outputs": [],
   "source": [
    "import warnings\n",
    "warnings. filterwarnings('ignore')"
   ]
  },
  {
   "cell_type": "markdown",
   "id": "6e9d9b3c",
   "metadata": {},
   "source": [
    "# Import modules :"
   ]
  },
  {
   "cell_type": "code",
   "execution_count": 2,
   "id": "8e354512",
   "metadata": {},
   "outputs": [],
   "source": [
    "import selenium \n",
    "import matplotlib.pyplot as plt\n",
    "from selenium import webdriver \n",
    "from selenium.webdriver.common.by import By \n",
    "import time\n",
    "import loguru\n",
    "import pandas as pd \n",
    "import os"
   ]
  },
  {
   "cell_type": "markdown",
   "id": "68766705",
   "metadata": {},
   "source": [
    "# Set driver path :"
   ]
  },
  {
   "cell_type": "code",
   "execution_count": 63,
   "id": "7f825478",
   "metadata": {},
   "outputs": [],
   "source": [
    "driver_path = '/home/saeed/Desktop/auto_captcha_solver/chromedriver'\n",
    "driver = webdriver.Chrome(driver_path)"
   ]
  },
  {
   "cell_type": "markdown",
   "id": "63b6f95d",
   "metadata": {},
   "source": [
    "# Open url in webdriver :"
   ]
  },
  {
   "cell_type": "code",
   "execution_count": 64,
   "id": "717e8c28",
   "metadata": {},
   "outputs": [],
   "source": [
    "url = \"https://evisaforms.state.gov/default.asp?CSRFToken=4F70B023CADC4906AA41A8D63C729E9C&PostCode=ALG&CountryCode=ALGR++++++&CountryCodeShow=&PostCodeShow=&Submit=Submit\"\n",
    "driver.get(url)"
   ]
  },
  {
   "cell_type": "markdown",
   "id": "f639c1b6",
   "metadata": {},
   "source": [
    "# Export captchas and save them according to `captcha{i}` format :"
   ]
  },
  {
   "cell_type": "code",
   "execution_count": 69,
   "id": "506cc035",
   "metadata": {},
   "outputs": [
    {
     "name": "stdout",
     "output_type": "stream",
     "text": [
      "done\n"
     ]
    }
   ],
   "source": [
    "# loop to extract 400 captcha images\n",
    "for i in range(0,400,2):\n",
    "    #wait 15 seconds for complete loading\n",
    "    time.sleep(15)\n",
    "    \n",
    "    #find the captchas in each interation by ID\n",
    "    captcha_el_1 = driver.find_element(By.ID,\"frmconinput_CaptchaImage\")\n",
    "    captcha_el_2 = driver.find_element(By.ID,\"frmconinput2_CaptchaImage\")\n",
    "    \n",
    "    #take a screenshot from each captcha  in `captcha{i}.jpg' format\n",
    "    captcha_el_1.screenshot(f'captcha{i}.jpg')\n",
    "    captcha_el_2.screenshot(f'captcha{i+1}.jpg')\n",
    "    time.sleep(6)\n",
    "\n",
    "    #find refresh_icons by ID\n",
    "    refreshing_el_1 = driver.find_element(By.ID,\"frmconinput_ReloadIcon\")\n",
    "    refreshing_el_2 = driver.find_element(By.ID,\"frmconinput2_ReloadIcon\")\n",
    "    \n",
    "    #refresh captchas\n",
    "    refreshing_el_1.click()\n",
    "    refreshing_el_2.click()\n",
    "print('done')"
   ]
  },
  {
   "cell_type": "markdown",
   "id": "4e93d887",
   "metadata": {},
   "source": [
    "# Save each captcha's labels and the current name of the captcha in `labels.csv file`:"
   ]
  },
  {
   "cell_type": "code",
   "execution_count": 1,
   "id": "2f488db3",
   "metadata": {},
   "outputs": [],
   "source": [
    "# done it manually"
   ]
  },
  {
   "cell_type": "markdown",
   "id": "2e48bff6",
   "metadata": {},
   "source": [
    "# Read `labels.csv` file and change the name of images :"
   ]
  },
  {
   "cell_type": "code",
   "execution_count": 3,
   "id": "f59a2709",
   "metadata": {},
   "outputs": [],
   "source": [
    "# Read labels and captcha's name as dataframe from labels.csv\n",
    "data = pd.read_csv('labels.csv',sep=',')"
   ]
  },
  {
   "cell_type": "code",
   "execution_count": 4,
   "id": "8c601cd4",
   "metadata": {},
   "outputs": [],
   "source": [
    "# Convert labels to list\n",
    "labels_list = list(data['labels'])"
   ]
  },
  {
   "cell_type": "code",
   "execution_count": 5,
   "id": "1071ef4e-e530-4bac-9bf5-4e0d6e695d72",
   "metadata": {},
   "outputs": [],
   "source": [
    "# Rename images according to labels_list and captcha{i}.jpg formats\n",
    "for i in range(400):\n",
    "    os.rename(f\"./captcha_images/captcha{i}.jpg\",f\"./captcha_images_with_label/{labels_list[i]}.jpg\")\n",
    "    "
   ]
  },
  {
   "cell_type": "code",
   "execution_count": null,
   "id": "274b245d-81c5-43c0-bc41-2c18a471e78e",
   "metadata": {},
   "outputs": [],
   "source": []
  }
 ],
 "metadata": {
  "interpreter": {
   "hash": "6416f418eb6028d940f0cee898673b7afd04fa0d5c74c6b280ddcb674075d44a"
  },
  "kernelspec": {
   "display_name": "Python 3 (ipykernel)",
   "language": "python",
   "name": "python3"
  },
  "language_info": {
   "codemirror_mode": {
    "name": "ipython",
    "version": 3
   },
   "file_extension": ".py",
   "mimetype": "text/x-python",
   "name": "python",
   "nbconvert_exporter": "python",
   "pygments_lexer": "ipython3",
   "version": "3.9.7"
  }
 },
 "nbformat": 4,
 "nbformat_minor": 5
}
