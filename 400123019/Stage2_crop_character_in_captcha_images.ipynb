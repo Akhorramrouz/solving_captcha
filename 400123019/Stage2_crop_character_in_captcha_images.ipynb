{
 "cells": [
  {
   "cell_type": "markdown",
   "id": "a5e47b2e-85c5-4f01-a1ce-a82c3e1282da",
   "metadata": {},
   "source": [
    "# Crop characters in each captcha "
   ]
  },
  {
   "cell_type": "code",
   "execution_count": 54,
   "id": "9deb9ec3-e3d7-47a2-baaa-2a72398784b5",
   "metadata": {},
   "outputs": [],
   "source": [
    "import os\n",
    "import cv2\n",
    "import seaborn as sns\n",
    "import matplotlib.pyplot as plt"
   ]
  },
  {
   "cell_type": "code",
   "execution_count": 3,
   "id": "5381900a-141f-4944-9af2-d158716bbd17",
   "metadata": {},
   "outputs": [],
   "source": [
    "os.chdir('captcha_images_with_label/')"
   ]
  },
  {
   "cell_type": "code",
   "execution_count": 28,
   "id": "d8611871-bbbb-450a-a00c-def5cc032d84",
   "metadata": {},
   "outputs": [],
   "source": [
    "counter = 0\n",
    "for file_name in os.listdir():\n",
    "    if file_name.endswith('.jpg'):\n",
    "        image = cv2.imread(f'{file_name}',1)\n",
    "        for i in range(5):\n",
    "            counter += 1\n",
    "            sub_image = image[:,i*28:i*28+35]\n",
    "            cv2.imwrite(f'C://Users//Ariana//Desktop//vision_project//solving_captcha//400123019/captcha_sub_images//{file_name[i]}_{counter}.jpg',sub_image)"
   ]
  },
  {
   "cell_type": "markdown",
   "id": "44f82aa9-646f-42ee-ad8f-a969ba293eb5",
   "metadata": {},
   "source": [
    "# See the frequency of each character in dataset"
   ]
  },
  {
   "cell_type": "code",
   "execution_count": 58,
   "id": "7c38a163-89e2-48e2-8b02-9160609f48bc",
   "metadata": {},
   "outputs": [
    {
     "data": {
      "text/plain": [
       "<BarContainer object of 26 artists>"
      ]
     },
     "execution_count": 58,
     "metadata": {},
     "output_type": "execute_result"
    },
    {
     "data": {
      "image/png": "[encoded data removed]",
      "text/plain": [
       "<Figure size 432x288 with 1 Axes>"
      ]
     },
     "metadata": {
      "needs_background": "light"
     },
     "output_type": "display_data"
    }
   ],
   "source": [
    "from collections import Counter\n",
    "chars = []\n",
    "for file_name in os.listdir():\n",
    "    chars += [c for c in file_name[0:-4]]\n",
    "char_count = Counter(sorted(chars))\n",
    "#plot frequency of chars\n",
    "plt.bar(char_count.keys(), char_count.values())"
   ]
  },
  {
   "cell_type": "code",
   "execution_count": null,
   "id": "95bb74bf-5b82-4d21-83a2-817aa0220c3a",
   "metadata": {},
   "outputs": [],
   "source": []
  }
 ],
 "metadata": {
  "kernelspec": {
   "display_name": "Python 3 (ipykernel)",
   "language": "python",
   "name": "python3"
  },
  "language_info": {
   "codemirror_mode": {
    "name": "ipython",
    "version": 3
   },
   "file_extension": ".py",
   "mimetype": "text/x-python",
   "name": "python",
   "nbconvert_exporter": "python",
   "pygments_lexer": "ipython3",
   "version": "3.9.7"
  }
 },
 "nbformat": 4,
 "nbformat_minor": 5
}
