{
 "cells": [
  {
   "cell_type": "code",
   "execution_count": 2,
   "id": "286e1d9a",
   "metadata": {},
   "outputs": [],
   "source": [
    "import selenium\n",
    "import matplotlib.pyplot as plt\n",
    "import cv2\n",
    "import time\n",
    "from selenium import webdriver\n",
    "from selenium.webdriver.common.by import By"
   ]
  },
  {
   "cell_type": "code",
   "execution_count": 38,
   "id": "62f4a2b2",
   "metadata": {},
   "outputs": [],
   "source": [
    "driver = webdriver.Chrome()\n",
    "url = \"https://evisaforms.state.gov/default.asp?CSRFToken=749583751CDE4E3081C36AA7377E67CE&PostCode=ERB&CountryCode=IRAQ++++++&CountryCodeShow=&PostCodeShow=&Submit=Submit\"\n",
    "driver.get(url)"
   ]
  },
  {
   "cell_type": "code",
   "execution_count": 54,
   "id": "ef513fac",
   "metadata": {},
   "outputs": [],
   "source": [
    "for i in range(999):\n",
    "    # find captcha element using its id\n",
    "    captcha_element = driver.find_element(By.ID,'frmconinput_CaptchaImage')\n",
    "    # save the screen shot of the captcha\n",
    "    ##  name of the saved screen shot should be in the following format: \n",
    "    \n",
    "    # f'captcha_{three last digit of your student number}_{index}.jpg'  first captcha of mine would be => captcha_041_0.jpg\n",
    "    captcha_screenshot = captcha_element.screenshot(f'Captcha_191_{i+999}.jpg')\n",
    "    # find the refreshing element\n",
    "    refreshing_el = driver.find_element(By.ID,'frmconinput_ReloadIcon')\n",
    "    # click on the refreshing element\n",
    "    refreshing_el.click()\n",
    "    # wait 15s for new captcha to load\n",
    "    time.sleep(15)"
   ]
  },
  {
   "cell_type": "code",
   "execution_count": 3,
   "id": "d9d0bb70",
   "metadata": {},
   "outputs": [],
   "source": [
    "import os\n",
    "import cv2\n",
    "import matplotlib.pyplot as plt"
   ]
  },
  {
   "cell_type": "code",
   "execution_count": 4,
   "id": "cc7b5009",
   "metadata": {},
   "outputs": [],
   "source": [
    "counter = 0\n",
    "for file_name in os.listdir('C:\\\\Users\\\\POOYA\\\\Desktop\\\\capcha project\\\\99123017'):\n",
    "     if file_name.endswith('.jpg'):\n",
    "        image = cv2.imread(f'C:\\\\Users\\\\POOYA\\\\Desktop\\\\capcha project\\\\99123017\\\\{file_name}',0)\n",
    "        for i in range(5):\n",
    "            counter += 1\n",
    "            sub_image = image[:,i*28:i*28+35]\n",
    "            cv2.imwrite(f'C:\\\\Users\\\\POOYA\\\\Desktop\\\\capcha project\\\\99123017\\\\sub_image\\\\{file_name[i]}_{counter}.jpg',sub_image)\n"
   ]
  },
  {
   "cell_type": "code",
   "execution_count": 10,
   "id": "c3add097",
   "metadata": {},
   "outputs": [],
   "source": [
    "for file_name in os.listdir('C:\\\\Users\\\\POOYA\\\\Desktop\\\\capcha project\\\\99123017\\\\sub_image'):\n",
    "     if file_name.endswith('.jpg'):\n",
    "        sub_image = cv2.imread(f'C:\\\\Users\\\\POOYA\\\\Desktop\\\\capcha project\\\\99123017\\\\sub_image\\\\{file_name}',0)\n",
    "        filtered = cv2.fastNlMeansDenoising(sub_image, None, 31, 7, 21)\n",
    "        filtered = cv2.medianBlur(filtered,1)\n",
    "        filtered = cv2.Laplacian(filtered,cv2.CV_64F)\n",
    "        cv2.imwrite(f'C:\\\\Users\\\\POOYA\\\\Desktop\\\\capcha project\\\\99123017\\\\filtered\\\\{file_name}.jpg',filtered)\n",
    "        \n",
    "        "
   ]
  }
 ],
 "metadata": {
  "kernelspec": {
   "display_name": "Python 3 (ipykernel)",
   "language": "python",
   "name": "python3"
  },
  "language_info": {
   "codemirror_mode": {
    "name": "ipython",
    "version": 3
   },
   "file_extension": ".py",
   "mimetype": "text/x-python",
   "name": "python",
   "nbconvert_exporter": "python",
   "pygments_lexer": "ipython3",
   "version": "3.9.7"
  }
 },
 "nbformat": 4,
 "nbformat_minor": 5
}
