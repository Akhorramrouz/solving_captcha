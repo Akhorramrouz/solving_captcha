{
 "cells": [
  {
   "cell_type": "code",
   "execution_count": 1,
   "id": "bbf2a624",
   "metadata": {},
   "outputs": [],
   "source": [
    "import selenium\n",
    "import matplotlib.pyplot as plt\n",
    "import cv2\n",
    "import time\n",
    "from selenium import webdriver\n",
    "from selenium.webdriver.common.by import By"
   ]
  },
  {
   "cell_type": "code",
   "execution_count": 2,
   "id": "fa04b93f",
   "metadata": {},
   "outputs": [],
   "source": [
    "driver = webdriver.Chrome()\n",
    "url = \"https://evisaforms.state.gov/default.asp?CSRFToken=749583751CDE4E3081C36AA7377E67CE&PostCode=ERB&CountryCode=IRAQ++++++&CountryCodeShow=&PostCodeShow=&Submit=Submit\"\n",
    "driver.get(url)"
   ]
  },
  {
   "cell_type": "code",
   "execution_count": 5,
   "id": "b52a0312",
   "metadata": {},
   "outputs": [
    {
     "name": "stderr",
     "output_type": "stream",
     "text": [
      "C:\\Users\\Adel\\anaconda3\\lib\\site-packages\\selenium\\webdriver\\remote\\webelement.py:660: UserWarning: name used for saved screenshot does not match file type. It should end with a `.png` extension\n",
      "  warnings.warn(\"name used for saved screenshot does not match file \"\n"
     ]
    }
   ],
   "source": [
    "for i in range(200):\n",
    "    # find captcha element using its id\n",
    "    captcha_el = \n",
    "    # save the screen shot of the captcha\n",
    "    ##  name of the saved screen shot should be in the following format: \n",
    "    \n",
    "    # f'captcha_{three last digit of your student number}_{index}.jpg'  first captcha of mine would be => captcha_041_0.jpg\n",
    "    captcha_screenshot = \n",
    "    # find the refreshing element\n",
    "    refreshing_el =\n",
    "    # click on the refreshing element\n",
    "    \n",
    "    # wait 15s for new captcha to load\n",
    "    "
   ]
  }
 ],
 "metadata": {
  "kernelspec": {
   "display_name": "Python 3 (ipykernel)",
   "language": "python",
   "name": "python3"
  },
  "language_info": {
   "codemirror_mode": {
    "name": "ipython",
    "version": 3
   },
   "file_extension": ".py",
   "mimetype": "text/x-python",
   "name": "python",
   "nbconvert_exporter": "python",
   "pygments_lexer": "ipython3",
   "version": "3.9.7"
  }
 },
 "nbformat": 4,
 "nbformat_minor": 5
}
